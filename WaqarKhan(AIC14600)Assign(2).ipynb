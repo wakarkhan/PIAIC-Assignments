{
 "cells": [
  {
   "cell_type": "markdown",
   "metadata": {},
   "source": [
    "# The ABC company has hired you as an intern on the coding team that creates e-commerce applications.  \n",
    "You must write a script that asks the user for a value. The value must be used as a whole number in a calculation, even if the user enters a decimal value. \n",
    "\n",
    "You need to write the code to meet the requirements."
   ]
  },
  {
   "cell_type": "code",
   "execution_count": 6,
   "metadata": {},
   "outputs": [
    {
     "name": "stdout",
     "output_type": "stream",
     "text": [
      "Please Enter No. Of Employees: \n",
      "84.5\n",
      "Total No. Of Employees: 84\n"
     ]
    }
   ],
   "source": [
    "a = float(input(\"Please Enter No. Of Employees: \\n\"))\n",
    "rs = int(a)\n",
    "print(\"Total No. Of Employees: \"+ str(rs))"
   ]
  },
  {
   "cell_type": "markdown",
   "metadata": {},
   "source": [
    "# You are creating a Python program that shows a congratulation message to employees on their service anniversary.\n",
    "You need to calculate the number of years of service and print a congratulatory message."
   ]
  },
  {
   "cell_type": "code",
   "execution_count": 7,
   "metadata": {},
   "outputs": [
    {
     "name": "stdout",
     "output_type": "stream",
     "text": [
      "Please Enter Year Of Joining: 1996\n",
      "Please Enter Current Year: 2019\n",
      "Congratulations! You've completed 23 years in our company :)\n"
     ]
    }
   ],
   "source": [
    "YearJ = input(\"Please Enter Year Of Joining: \")\n",
    "YearC = input(\"Please Enter Current Year: \")\n",
    "YearA = int(YearC) - int(YearJ)\n",
    "print(\"Congratulations! You've completed \"+ str(YearA) +\" years in our company :)\")"
   ]
  },
  {
   "cell_type": "markdown",
   "metadata": {},
   "source": [
    "# Write a Python program to convert temperatures  from fahrenheit to celsius, \n",
    "#step 1: take \"fahrenheit Temperature\" from user in integer data type\n",
    "#step 2: apply formula that is       (  C = (5/9) * (fahrenheit_temperature - 32)  )\n",
    "#step 3: print step 2. "
   ]
  },
  {
   "cell_type": "code",
   "execution_count": 8,
   "metadata": {},
   "outputs": [
    {
     "name": "stdout",
     "output_type": "stream",
     "text": [
      "Enter Fahrenheit Temperature: \n",
      "80\n",
      "Celsius Temperature is 26.666666666666668°C\n"
     ]
    }
   ],
   "source": [
    "fh = int(input(\"Enter Fahrenheit Temperature: \\n\"))\n",
    "Cel = (5/9) * (fh - 32)\n",
    "print(\"Celsius Temperature is \" +str(Cel)+ \"°C\")"
   ]
  },
  {
   "cell_type": "markdown",
   "metadata": {},
   "source": [
    "<h3>assign a vlue to grade by checking the following conditions:: </h3>\n",
    "<h3>if % is greater then and equal to 90 and less then 100 grade is A+ </h3>\n",
    "<h3>if % is greater then and equal to 80 and less then 90 grade is A </h3>\n",
    "<h3>if % is greater then and equal to 70 and less then 80 grade is B </h3>\n",
    "<h3>if % is greater then and equal to 60 and less then 70 grade is C </h3>\n",
    "<h3>if % is less than 60 grade is FAIL </h3>\n"
   ]
  },
  {
   "cell_type": "code",
   "execution_count": 9,
   "metadata": {},
   "outputs": [
    {
     "name": "stdout",
     "output_type": "stream",
     "text": [
      "Please Enter Percentage : \n",
      "87.5\n",
      "A\n"
     ]
    }
   ],
   "source": [
    "grade=None\n",
    "per = float(input(\"Please Enter Percentage : \\n\"))\n",
    "if per >=90 and per < 100:\n",
    " grade= \"A+\"\n",
    " print(grade)\n",
    "elif per >=80 and per < 90:\n",
    " grade= \"A\"\n",
    " print(grade)\n",
    "elif per >=70 and per < 80:\n",
    " grade= \"B\"\n",
    " print(grade)\n",
    "elif per >=60 and per < 70:\n",
    " grade= \"C\"\n",
    " print(grade)\n",
    "elif per < 60:\n",
    " grade= \"FAIL\"\n",
    " print(grade)"
   ]
  },
  {
   "cell_type": "markdown",
   "metadata": {},
   "source": [
    "<h3>Print grade percentage and obtained marks</h3>"
   ]
  },
  {
   "cell_type": "code",
   "execution_count": 10,
   "metadata": {},
   "outputs": [
    {
     "name": "stdout",
     "output_type": "stream",
     "text": [
      "Enter Total Marks : \n",
      "500\n",
      "Enter Marks Obtained : \n",
      "380\n",
      "Congratulations! You've obtained 380 marks. \n",
      "Your percentage is: 76.0 \n",
      "Your Grade is: B\n"
     ]
    }
   ],
   "source": [
    "grade=None\n",
    "msg = None\n",
    "totMarks = int(input(\"Enter Total Marks : \\n\"))\n",
    "obtMarks = int(input(\"Enter Marks Obtained : \\n\"))\n",
    "per = obtMarks * 100 / totMarks\n",
    "if per >=90 and per < 100:\n",
    " grade= \"A+\"\n",
    " msg = \"Congratulations! You've obtained \" + str(obtMarks) + \" marks. \\nYour percentage is: \" + str(per) + \" \\nYour Grade is: \" + grade \n",
    "elif per >=80 and per < 90:\n",
    " grade= \"A\"\n",
    " msg = \"Congratulations! You've obtained \" + str(obtMarks) + \" marks. \\nYour percentage is: \" + str(per) + \" \\nYour Grade is: \" + grade \n",
    "elif per >=70 and per < 80:\n",
    " grade= \"B\"\n",
    " msg = \"Congratulations! You've obtained \" + str(obtMarks) + \" marks. \\nYour percentage is: \" + str(per) + \" \\nYour Grade is: \" + grade \n",
    "elif per >=60 and per < 70:\n",
    " grade= \"C\"\n",
    " msg = \"Congratulations! You've obtained \" + str(obtMarks) + \" marks. \\nYour percentage is: \" + str(per) + \" \\nYour Grade is: \" + grade \n",
    "elif per < 60:\n",
    " grade= \"F\"\n",
    " msg = \"Failed! You've obtained \" + str(obtMarks) + \" marks. \\nYour percentage is: \" + str(per) + \" \\nYour Grade is: \" + grade \n",
    " \n",
    "print(msg)\n"
   ]
  }
 ],
 "metadata": {
  "kernelspec": {
   "display_name": "Python 3",
   "language": "python",
   "name": "python3"
  },
  "language_info": {
   "codemirror_mode": {
    "name": "ipython",
    "version": 3
   },
   "file_extension": ".py",
   "mimetype": "text/x-python",
   "name": "python",
   "nbconvert_exporter": "python",
   "pygments_lexer": "ipython3",
   "version": "3.7.3"
  }
 },
 "nbformat": 4,
 "nbformat_minor": 2
}
