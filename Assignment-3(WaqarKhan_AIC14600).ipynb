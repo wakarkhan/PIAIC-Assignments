{
 "cells": [
  {
   "cell_type": "markdown",
   "metadata": {},
   "source": [
    "<h3>Q no 1:  Write a python program to find number of occurrences of given number in a list with out using built-in methods</h3>\n",
    "<h4>**1 generate a list of some random num which is repeated again and again</h4>\n",
    "<h4>**2 take user input any number</h4>\n",
    "<h4>**3 find the number of occurrences of that num in your list</h4>\n",
    "<h4>**4 print some message to user with that result</h4>"
   ]
  },
  {
   "cell_type": "code",
   "execution_count": 1,
   "metadata": {},
   "outputs": [
    {
     "name": "stdout",
     "output_type": "stream",
     "text": [
      "Please Enter No. to Search: 5\n",
      "7 Records Found.\n"
     ]
    }
   ],
   "source": [
    "numbers = [1,2,3,4,5,7,1,4,2,4,2,7,8,9,3,2,5,23,4,7,11,2,4,5,7,8,23,21,1,2,5,21,3,45,1,3,5,3,45,34,2,5,7,9,5]\n",
    "inp = int(input(\"Please Enter No. to Search: \"))\n",
    "cnt = 0\n",
    "for a in numbers:\n",
    "    if a == inp:\n",
    "        cnt = cnt + 1\n",
    "print(str(cnt)+\" Records Found.\")"
   ]
  },
  {
   "cell_type": "markdown",
   "metadata": {},
   "source": [
    "<h3>Q no 2:   [\"www.zframez.com\", \"www.wikipedia.org\", \"www.asp.net\", \"www.abcd.in\"]\n",
    "<br/><br/><br/><br/><br/>\n",
    "Write a python program to print website suffixes (com , org , net ,in) from this list\n",
    "\n",
    "Hint : Use split() method to perform this task\n",
    "</h3>\n"
   ]
  },
  {
   "cell_type": "code",
   "execution_count": 2,
   "metadata": {},
   "outputs": [
    {
     "name": "stdout",
     "output_type": "stream",
     "text": [
      "com\n",
      "\n",
      "org\n",
      "\n",
      "net\n",
      "\n",
      "in\n",
      "\n"
     ]
    }
   ],
   "source": [
    "websites = [\"www.zframez.com\", \"www.wikipedia.org\", \"www.asp.net\", \"www.abcd.in\"] \n",
    "for ext in websites:\n",
    "    a = ext.split(\".\")\n",
    "    print(a[2]+ \"\\n\")"
   ]
  },
  {
   "cell_type": "markdown",
   "metadata": {},
   "source": [
    "<h3> Q no 3 : Write a program which can compute the factorial of a given numbers.</h3>\n",
    "<br/>\n",
    "<br/>\n",
    "<h4>**1 first take user input any number</h4>\n",
    "<h4>**2 calculate factorial of that input and then print the result to user</h4>"
   ]
  },
  {
   "cell_type": "code",
   "execution_count": 2,
   "metadata": {},
   "outputs": [
    {
     "name": "stdout",
     "output_type": "stream",
     "text": [
      "Enter Number to find factorial: 6\n",
      "0\n",
      "1\n",
      "2\n",
      "3\n",
      "4\n",
      "5\n",
      "720\n"
     ]
    }
   ],
   "source": [
    "import math\n",
    "inp = int(input(\"Enter Number to find factorial: \"))\n",
    "x = range(inp)\n",
    "#print(\"Answer: Factorial of \"+ str(inp) + \" is \" + str(math.factorial(inp)))\n",
    "fr = 1\n",
    "for i in x:\n",
    "    print(i)\n",
    "    fr = fr * (i + 1)\n",
    "print(fr)\n",
    "#print(\"Type is: \"+str(type(fr)))"
   ]
  },
  {
   "cell_type": "markdown",
   "metadata": {},
   "source": [
    "<h3>Q 4 (a) :  If you could invite anyone, living or deceased, to dinner, who\n",
    "would you invite? Make a list that includes at least three people you’d like to\n",
    "invite to dinner. Then use your list to print a message to each person, inviting\n",
    "them to dinner.</h3>"
   ]
  },
  {
   "cell_type": "code",
   "execution_count": 4,
   "metadata": {},
   "outputs": [
    {
     "name": "stdout",
     "output_type": "stream",
     "text": [
      "HEY Tahseen. The best present one can hope for this year is to spend time together. Please join us For a dinner party :)\n",
      "\n",
      "HEY Bilal. The best present one can hope for this year is to spend time together. Please join us For a dinner party :)\n",
      "\n",
      "HEY Usama. The best present one can hope for this year is to spend time together. Please join us For a dinner party :)\n",
      "\n",
      "HEY Waris. The best present one can hope for this year is to spend time together. Please join us For a dinner party :)\n",
      "\n",
      "HEY Faizan. The best present one can hope for this year is to spend time together. Please join us For a dinner party :)\n",
      "\n"
     ]
    }
   ],
   "source": [
    "FrndsList = [\"Tahseen\",\"Bilal\",\"Usama\",\"Waris\",\"Faizan\"]\n",
    "for nam in FrndsList:\n",
    "    print(\"HEY \" + str(nam)+\".\" + \" The best present one can hope for this year is to spend time together. Please join us For a dinner party :)\\n\")"
   ]
  },
  {
   "cell_type": "markdown",
   "metadata": {},
   "source": [
    "<h3>Q 4 (b) : You just heard that one of your guests can’t make the\n",
    "dinner, so you need to send out a new set of invitations. You’ll have to think of\n",
    "someone else to invite.<br/></br><br/>\n",
    "•\t Start with your program from Q 4 (a). Add a print statement at the\n",
    "end of your program stating the name of the guest who can’t make it.<br/></br><br/>\n",
    "•\t Modify your list, replacing the name of the guest who can’t make it with\n",
    "the name of the new person you are inviting.<br/></br><br/>\n",
    "•\t Print a second set of invitation messages, one for each person who is still\n",
    "in your list.<br/></br><br/></h3>"
   ]
  },
  {
   "cell_type": "code",
   "execution_count": null,
   "metadata": {},
   "outputs": [],
   "source": [
    "print(str(FrndsList[3])+\" Can't make dinner for party.\")"
   ]
  },
  {
   "cell_type": "code",
   "execution_count": null,
   "metadata": {},
   "outputs": [],
   "source": [
    "FrndsList[3] = \"Abdullah\""
   ]
  },
  {
   "cell_type": "code",
   "execution_count": null,
   "metadata": {},
   "outputs": [],
   "source": [
    "for nam in FrndsList:\n",
    "    print(\"HEY \" + str(nam)+\".\" + \" The best present one can hope for this year is to spend time together. Please join us For a dinner party :)\\n\")"
   ]
  },
  {
   "cell_type": "markdown",
   "metadata": {},
   "source": [
    "<h3>Q 4 (c) : You just found a bigger dinner table, so now more space is\n",
    "available. Think of three more guests to invite to dinner.<br/></br><br/>\n",
    "•\t Start with your program from Q 4 (a) and (b) Add a print\n",
    "statement to the end of your program informing people that you found a\n",
    "bigger dinner table.<br/></br><br/>\n",
    "•\t Use insert() to add one new guest to the beginning of your list.<br/></br><br/>\n",
    "•\t Use insert() to add one new guest to the middle of your list.<br/></br><br/>\n",
    "•\t Use append() to add one new guest to the end of your list.<br/></br><br/>\n",
    "•\t Print a new set of invitation messages, one for each person in your list.<br/></br><br/></h3>"
   ]
  },
  {
   "cell_type": "code",
   "execution_count": null,
   "metadata": {},
   "outputs": [],
   "source": [
    "print(\"HEY GUYS! We've recently found a bigger dinner table here, we can now invite some more guest in our dinner party.\\n\")\n",
    "FrndsList.insert(0,\"Yaseen\")\n",
    "FrndsList.insert(3,\"Hasan\")\n",
    "FrndsList.append(\"Noman\")\n",
    "\n",
    "for nam in FrndsList:\n",
    "    print(\"HEY \" + str(nam)+\".\" + \" The best present one can hope for this year is to spend time together. Please join us For a dinner party :)\\n\")"
   ]
  },
  {
   "cell_type": "markdown",
   "metadata": {},
   "source": [
    "<h5> Q 5 : Here you have some data in variable below, your task is to make a list of specific word Surah then print the list and length of list</h5>\n"
   ]
  },
  {
   "cell_type": "code",
   "execution_count": 13,
   "metadata": {},
   "outputs": [
    {
     "name": "stdout",
     "output_type": "stream",
     "text": [
      "['S', 'u', 'r', 'a', 'h']\n",
      "Length: 5\n"
     ]
    }
   ],
   "source": [
    "nam = \"Surah\"\n",
    "lst = []\n",
    "for var in nam:\n",
    "    lst.append(var)\n",
    "print(lst)\n",
    "print(\"Length: \"+str(len(lst)))"
   ]
  },
  {
   "cell_type": "markdown",
   "metadata": {},
   "source": [
    " <h3>Q no 6 : You have some name of cities in list named cities, Your task is to check whether Karachi is present in this list or not, if present print the index where the value Karachi is present</h3>"
   ]
  },
  {
   "cell_type": "code",
   "execution_count": null,
   "metadata": {},
   "outputs": [],
   "source": [
    "cities = [\"Hyderabad\",\"Lahore\",\"Karachi\",\"Islamabad\",\"Peshawar\"]\n",
    "my_city = \"Karachi\"\n",
    "for ind in range(len(cities)):\n",
    "    if cities[ind] == my_city:\n",
    "        print(\"The Index of \"+cities[ind]+\" is \"+str(ind))"
   ]
  }
 ],
 "metadata": {
  "kernelspec": {
   "display_name": "Python 3",
   "language": "python",
   "name": "python3"
  },
  "language_info": {
   "codemirror_mode": {
    "name": "ipython",
    "version": 3
   },
   "file_extension": ".py",
   "mimetype": "text/x-python",
   "name": "python",
   "nbconvert_exporter": "python",
   "pygments_lexer": "ipython3",
   "version": "3.7.3"
  }
 },
 "nbformat": 4,
 "nbformat_minor": 2
}
